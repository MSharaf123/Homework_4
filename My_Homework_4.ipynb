{
 "cells": [
  {
   "cell_type": "markdown",
   "metadata": {},
   "source": [
    "# Homework 4"
   ]
  },
  {
   "cell_type": "markdown",
   "metadata": {},
   "source": [
    "1 Getting the data by using requests and BeautifulSoup and saving into a CSV and a JSON file"
   ]
  },
  {
   "cell_type": "code",
   "execution_count": 1,
   "metadata": {
    "collapsed": true
   },
   "outputs": [],
   "source": [
    "from BeautifulSoup import *\n",
    "url = \"https://www.youtube.com/feed/trending\"\n",
    "import requests\n",
    "response = requests.get(url)\n",
    "page = response.text\n",
    "soup = BeautifulSoup(page)"
   ]
  },
  {
   "cell_type": "code",
   "execution_count": 2,
   "metadata": {
    "collapsed": true
   },
   "outputs": [],
   "source": [
    "username = soup.findAll('a', attrs = {'class': 'g-hovercard yt-uix-sessionlink       spf-link '}) \n",
    "url_and_title = soup.findAll('a', attrs={'class':\"yt-uix-tile-link yt-ui-ellipsis yt-ui-ellipsis-2 yt-uix-sessionlink      spf-link \"})\n",
    "duration = soup.findAll('span', attrs = {'class': 'video-time'})"
   ]
  },
  {
   "cell_type": "code",
   "execution_count": 3,
   "metadata": {
    "collapsed": true
   },
   "outputs": [],
   "source": [
    "views = soup.findAll('ul', attrs = {'class': 'yt-lockup-meta-info'})\n",
    "list = []\n",
    "for i in views:\n",
    "    for j in i:\n",
    "        list.append(j.text)\n",
    "\n",
    "final_views = list[1::2]"
   ]
  },
  {
   "cell_type": "code",
   "execution_count": 4,
   "metadata": {
    "collapsed": false
   },
   "outputs": [
    {
     "name": "stdout",
     "output_type": "stream",
     "text": [
      "[{'Title ': u'JUMANJI: WELCOME TO THE JUNGLE - Official Trailer (HD)', 'URL': u'https://www.youtube.com/watch?v=2QKg5SZ_35I', 'Username': u'Sony Pictures Entertainment', 'Duration': u'2:46', 'Views': u'364,238 views'}, {'Title ': u\"Marvel's Inhumans - Official Trailer 1\", 'URL': u'https://www.youtube.com/watch?v=1sYF1SXcWqQ', 'Username': u'Marvel Entertainment', 'Duration': u'1:57', 'Views': u'822,465 views'}, {'Title ': u'Van Jones: Russia is \\u201cNothing burger\\u201d\\u2013 American Pravda: CNN Part 2', 'URL': u'https://www.youtube.com/watch?v=l2G360HrSAs', 'Username': u'veritasvisuals', 'Duration': u'3:55', 'Views': u'1,163,981 views'}, {'Title ': u'Bathroom Bullies - Cyanide & Happiness Shorts', 'URL': u'https://www.youtube.com/watch?v=fjQ0lpY1OgM', 'Username': u'ExplosmEntertainment', 'Duration': u'1:14', 'Views': u'1,019,781 views'}, {'Title ': u'Phora - To The Moon [Official Music Video]', 'URL': u'https://www.youtube.com/watch?v=bXWfc8kmTaw', 'Username': u'Phora YoursTruly', 'Duration': u'4:20', 'Views': u'682,491 views'}, {'Title ': u'Trump Tweets While Republicans Huddle on Health Care: A Closer Look', 'URL': u'https://www.youtube.com/watch?v=Qc0lV_7kOS4', 'Username': u'Late Night with Seth Meyers', 'Duration': u'8:04', 'Views': u'984,108 views'}, {'Title ': u\"Medicaid's Last Stand | June 28, 2017 Part 1 | Full Frontal on TBS\", 'URL': u'https://www.youtube.com/watch?v=0EzEMsZFrXY', 'Username': u'Full Frontal with Samantha Bee', 'Duration': u'5:56', 'Views': u'164,507 views'}, {'Title ': u'Breathe Official Trailer #1 (2017) Andrew Garfield, Claire Foy Biography Movie HD', 'URL': u'https://www.youtube.com/watch?v=7_YnYrLfjxA', 'Username': u'Zero Media', 'Duration': u'2:52', 'Views': u'262,445 views'}, {'Title ': u'Seth Rogen and Dominic Cooper Suffer While Eating Spicy Wings | Hot Ones', 'URL': u'https://www.youtube.com/watch?v=QulEM-Azzug', 'Username': u'First We Feast', 'Duration': u'13:28', 'Views': u'111,856 views'}, {'Title ': u\"Will Ferrell & Amy Poehler Answer the Web's Most Searched Questions | WIRED\", 'URL': u'https://www.youtube.com/watch?v=k___aVjwEXs', 'Username': u'WIRED', 'Duration': u'6:05', 'Views': u'51,154 views'}, {'Title ': u'GIANT SALAMANDER FOUND!', 'URL': u'https://www.youtube.com/watch?v=k17NmE6LLG8', 'Username': u'Brave Wilderness', 'Duration': u'13:41', 'Views': u'3,761,241 views'}, {'Title ': u'When Should Remakes Not Happen?', 'URL': u'https://www.youtube.com/watch?v=Fh2W3FpfoQ8', 'Username': u'Channel Awesome', 'Duration': u'12:16', 'Views': u'308,839 views'}, {'Title ': u'HUSBAND DOES MY MAKE UP CHALLENGE (JERIKA EDITION)', 'URL': u'https://www.youtube.com/watch?v=C_voqSfIvGY', 'Username': u'Team 10', 'Duration': u'9:03', 'Views': u'1,375,119 views'}, {'Title ': u'Spider-man: Homecoming - Movie Review', 'URL': u'https://www.youtube.com/watch?v=HyPAi2Y9-_w', 'Username': u'Jeremy Jahns', 'Duration': u'5:46', 'Views': u'182,150 views'}, {'Title ': u'The Greatest Showman | Official Trailer | 20th Century FOX', 'URL': u'https://www.youtube.com/watch?v=AXCTMGYUg9A', 'Username': u'20th Century Fox', 'Duration': u'2:24', 'Views': u'1,743,062 views'}, {'Title ': u'The xx - I Dare You (Official Music Video)', 'URL': u'https://www.youtube.com/watch?v=qqflFMhkqHM', 'Username': u'The xx', 'Duration': u'6:54', 'Views': u'63,561 views'}, {'Title ': u'2,000G AQUARIUM LEAKED!!!', 'URL': u'https://www.youtube.com/watch?v=HRS-aSgHdQc', 'Username': u'The king of DIY', 'Duration': u'8:25', 'Views': u'43,650 views'}, {'Title ': u'Kendrick Lamar - ELEMENT.', 'URL': u'https://www.youtube.com/watch?v=glaG64Ao7sM', 'Username': u'KendrickLamarVEVO', 'Duration': u'3:34', 'Views': u'7,280,981 views'}, {'Title ': u'Exclusive: Lamar Odom Talks Sobriety & Kardashians', 'URL': u'https://www.youtube.com/watch?v=kwxJxdfpEYY', 'Username': u'Wendy Williams', 'Duration': u'16:18', 'Views': u'762,505 views'}, {'Title ': u'Simon Cowell Shows Amazing HEART Steps In To Save Dog Trainer | America\\u2019s Got Talent 2017', 'URL': u'https://www.youtube.com/watch?v=uDQtTfAn5hk', 'Username': u'Talent Recap', 'Duration': u'4:54', 'Views': u'3,200,192 views'}, {'Title ': u'My longest hello everybody ever', 'URL': u'https://www.youtube.com/watch?v=BptxiIJhGd4', 'Username': u'Markiplier', 'Duration': u'1:28', 'Views': u'1,991,990 views'}, {'Title ': u'WHAT IF HARRY POTTER...', 'URL': u'https://www.youtube.com/watch?v=s8SHFfqqjec', 'Username': u'Smosh', 'Duration': u'4:03', 'Views': u'946,324 views'}, {'Title ': u'Mad Lib Theater with Kristen Wiig', 'URL': u'https://www.youtube.com/watch?v=kO2pP0nF6Fc', 'Username': u'The Tonight Show Starring Jimmy Fallon', 'Duration': u'6:14', 'Views': u'316,789 views'}, {'Title ': u'The Punjabi Wedding Breakdown (PART 2)', 'URL': u'https://www.youtube.com/watch?v=uEa_PI7jyT4', 'Username': u'JusReign', 'Duration': u'20:29', 'Views': u'116,475 views'}, {'Title ': u'INGRID GOES WEST [Theatrical Trailer] \\u2013 In Theaters August 11th', 'URL': u'https://www.youtube.com/watch?v=2STZ5D3yi74', 'Username': u'NEON', 'Duration': u'2:22', 'Views': u'330,697 views'}, {'Title ': u'We Tried Instagram Toilet Paper Lips (feat. Candace Lowry)', 'URL': u'https://www.youtube.com/watch?v=Gz29vsIPbXI', 'Username': u'Safiya Nygaard', 'Duration': u'11:03', 'Views': u'743,032 views'}, {'Title ': u\"DIY Flamin' Hot Doughnut Grilled Cheese, Corinne VS Cooking #20\", 'URL': u'https://www.youtube.com/watch?v=kM0z5bdlsbk', 'Username': u'ThreadBanger', 'Duration': u'7:28', 'Views': u'730,484 views'}, {'Title ': u'The Killers - The Man', 'URL': u'https://www.youtube.com/watch?v=w3xcybdis1k', 'Username': u'TheKillersVEVO', 'Duration': u'4:27', 'Views': u'752,679 views'}, {'Title ': u'In-N-Out 4x4x4 CHALLENGE', 'URL': u'https://www.youtube.com/watch?v=TYiK6a2wejw', 'Username': u'Matt Stonie', 'Duration': u'5:10', 'Views': u'792,239 views'}, {'Title ': u\"Stephen Won't Be Outdone By Gwyneth Paltrow's Magic Healing Stickers\", 'URL': u'https://www.youtube.com/watch?v=Qg0HCStAYMA', 'Username': u'The Late Show with Stephen Colbert', 'Duration': u'6:45', 'Views': u'933,569 views'}, {'Title ': u\"NEW GAME! Simon's Cat - Crunch Time\", 'URL': u'https://www.youtube.com/watch?v=gHfvnZ6RX8I', 'Username': u'Simon&#39;s Cat', 'Duration': u'0:46', 'Views': u'46,432 views'}, {'Title ': u\"\\U0001f525 World's Most Dangerous Rope \\U0001f4a3\\U0001f4a5\", 'URL': u'https://www.youtube.com/watch?v=JUk5j500U80', 'Username': u'Grant Thompson - &quot;The King of Random&quot;', 'Duration': u'7:18', 'Views': u'1,100,853 views'}, {'Title ': u\"They Say It's The World's Smallest...\", 'URL': u'https://www.youtube.com/watch?v=a5x2JQtjp1U', 'Username': u'Unbox Therapy', 'Duration': u'4:31', 'Views': u'1,202,724 views'}, {'Title ': u'Offset Says Migos Fight with Chris Brown All About Money and Haters | TMZ', 'URL': u'https://www.youtube.com/watch?v=Av1AG3ixiBA', 'Username': u'TMZ', 'Duration': u'2:02', 'Views': u'569,731 views'}, {'Title ': u\"Fox News host thinks Dems are hysterical about health care because 'we're all going to die'\", 'URL': u'https://www.youtube.com/watch?v=8QSX9fEDllo', 'Username': u'TP Clips', 'Duration': u'1:48', 'Views': u'129,579 views'}, {'Title ': u\"'YAKKO'S WORLD' Sung by 168 Movies!\", 'URL': u'https://www.youtube.com/watch?v=93OZxbDT2ho', 'Username': u'The Unusual Suspect', 'Duration': u'2:04', 'Views': u'138,347 views'}, {'Title ': u'JUNE MAKEUP FAVORITES AND DISAPPOINTMENTS! 2017', 'URL': u'https://www.youtube.com/watch?v=ouai1WMr7Ck', 'Username': u'Manny Mua', 'Duration': u'16:18', 'Views': u'674,988 views'}, {'Title ': u'My Little Pony: The Movie (2017) Official Trailer \\u2013 Emily Blunt, Sia, Zoe Saldana \\u2013 In Theaters 10/6', 'URL': u'https://www.youtube.com/watch?v=kIv_ConaZ1c', 'Username': u'Lionsgate Movies', 'Duration': u'2:24', 'Views': u'136,444 views'}, {'Title ': u'Telling a Story from the Inside Out', 'URL': u'https://www.youtube.com/watch?v=ulm7bcB2xvY', 'Username': u'Lessons from the Screenplay', 'Duration': u'12:51', 'Views': u'36,776 views'}, {'Title ': u'I CUT MY OWN HAIR! Carli Bybel', 'URL': u'https://www.youtube.com/watch?v=67ts0xgn7Lw', 'Username': u'Carli Bybel', 'Duration': u'14:32', 'Views': u'502,771 views'}, {'Title ': u'Susanna Reid dies a little inside every time Piers Morgan opens his mouth...', 'URL': u'https://www.youtube.com/watch?v=fVExq6zHOXA', 'Username': u'JOE_co_uk', 'Duration': u'1:22', 'Views': u'243,482 views'}, {'Title ': u\"Reporter Reacts to Sarah Huckabee Sanders: 'We Are Not Fake News' | Morning Joe | MSNBC\", 'URL': u'https://www.youtube.com/watch?v=UkC82aPSdbk', 'Username': u'MSNBC', 'Duration': u'11:05', 'Views': u'135,023 views'}, {'Title ': u'JEFFREE STAR COSMETICS CHROME SUMMER COLLECTION 2017 HONEST REVIEW', 'URL': u'https://www.youtube.com/watch?v=Qlgv_2FaajU', 'Username': u'Laura Lee', 'Duration': u'11:31', 'Views': u'458,049 views'}, {'Title ': u'Johnny Manuel: Guy Covers Whitney Houston\\'s \"I Have Nothing\" - America\\'s Got Talent 2017', 'URL': u'https://www.youtube.com/watch?v=72WMprLONBQ', 'Username': u'America&#39;s Got Talent', 'Duration': u'3:41', 'Views': u'2,865,430 views'}, {'Title ': u'ULTIMATE GYMNASTICS CHALLENGE | Squad Edition', 'URL': u'https://www.youtube.com/watch?v=FOTDLLmyicY', 'Username': u'Nile Wilson', 'Duration': u'10:59', 'Views': u'382,087 views'}, {'Title ': u\"The National - 'Guilty Party'\", 'URL': u'https://www.youtube.com/watch?v=71xmrULJ-ms', 'Username': u'The National', 'Duration': u'5:40', 'Views': u'82,796 views'}, {'Title ': u'Turn your car into a bed with the Carvet', 'URL': u'https://www.youtube.com/watch?v=BLL8WNZ9b4o', 'Username': u'colinfurze', 'Duration': u'5:03', 'Views': u'143,658 views'}, {'Title ': u'DeJ Loaf - No Fear', 'URL': u'https://www.youtube.com/watch?v=ny4SFoeAAaM', 'Username': u'dejloafVEVO', 'Duration': u'3:03', 'Views': u'166,555 views'}, {'Title ': u'The \"Mountain Or Valley?\" Illusion', 'URL': u'https://www.youtube.com/watch?v=V7C318DGB38', 'Username': u'minutephysics', 'Duration': u'4:13', 'Views': u'60,494 views'}, {'Title ': u'Game of Thrones Season 7: #WinterIsHere Trailer #2 (HBO)', 'URL': u'https://www.youtube.com/watch?v=1Mlhnt0jMlg', 'Username': u'HBO', 'Duration': u'2:09', 'Views': u'18,440,601 views'}, {'Title ': u'Vaccines: Last Week Tonight with John Oliver (HBO)', 'URL': u'https://www.youtube.com/watch?v=7VG_s2PCH_c', 'Username': u'LastWeekTonight', 'Duration': u'27:15', 'Views': u'4,796,873 views'}, {'Title ': u'The Milk Man - Cyanide & Happiness Minis', 'URL': u'https://www.youtube.com/watch?v=Zz4FLjMEKf4', 'Username': u'ExplosmEntertainment', 'Duration': u'1:12', 'Views': u'2,609,795 views'}, {'Title ': u'Pitch Perfect 3 - Official Trailer [HD]', 'URL': u'https://www.youtube.com/watch?v=Hihto8onbUU', 'Username': u'Pitch Perfect', 'Duration': u'2:28', 'Views': u'6,775,815 views'}, {'Title ': u'Binging with Babish: Cocktail Special', 'URL': u'https://www.youtube.com/watch?v=v5tJBLfeurU', 'Username': u'Binging with Babish', 'Duration': u'6:04', 'Views': u'738,557 views'}, {'Title ': u'Tattoo Artists Critique Rihanna, Justin Bieber, and More Celebrity Tattoos | GQ', 'URL': u'https://www.youtube.com/watch?v=qzlGB3eOjlU', 'Username': u'GQ', 'Duration': u'5:47', 'Views': u'3,876,683 views'}, {'Title ': u'BulgariaSat-1 Launch Webcast', 'URL': u'https://www.youtube.com/watch?v=Y8mLi-rRTh8', 'Username': u'SpaceX', 'Duration': u'53:24', 'Views': u'1,036,393 views'}, {'Title ': u'Toby Keith - Wacky Tobaccy', 'URL': u'https://www.youtube.com/watch?v=2kGEhX_s2_g', 'Username': u'TobyKeithVEVO', 'Duration': u'3:08', 'Views': u'2,973,100 views'}, {'Title ': u'The Truth About the Philando Castile Verdict: The Daily Show', 'URL': u'https://www.youtube.com/watch?v=wqgz7kRGVxg', 'Username': u'The Daily Show with Trevor Noah', 'Duration': u'5:27', 'Views': u'1,628,386 views'}, {'Title ': u'Senate Trumpcare Would Leave 22 Million More Uninsured: A Closer Look', 'URL': u'https://www.youtube.com/watch?v=lsaVDvrD9wc', 'Username': u'Late Night with Seth Meyers', 'Duration': u'11:23', 'Views': u'1,973,958 views'}, {'Title ': u'Casually Explained: Finding The One', 'URL': u'https://www.youtube.com/watch?v=TgHtp16pXfg', 'Username': u'Casually Explained', 'Duration': u'4:05', 'Views': u'1,520,988 views'}, {'Title ': u'ADULTS REACT TO RICK AND MORTY', 'URL': u'https://www.youtube.com/watch?v=coJ3UwP0Ri0', 'Username': u'FBE', 'Duration': u'13:29', 'Views': u'2,302,133 views'}, {'Title ': u'The TRUTH about KIM KARDASHIAN CONTOUR + HIGHLIGHT KIT', 'URL': u'https://www.youtube.com/watch?v=lQ0HaBWk9Lk', 'Username': u'Tati', 'Duration': u'17:03', 'Views': u'1,227,824 views'}, {'Title ': u'LaVar Ball takes over \\u201cMiz TV\\u201d: Raw, June 26, 2017', 'URL': u'https://www.youtube.com/watch?v=yq_h8Y6ecnQ', 'Username': u'WWE', 'Duration': u'4:21', 'Views': u'1,372,056 views'}, {'Title ': u'Nicki Minaj Full Performance NBA Awards 2017', 'URL': u'https://www.youtube.com/watch?v=1rcBq0cnwXI', 'Username': u'Music &amp; Sport', 'Duration': u'6:06', 'Views': u'454,165 views'}, {'Title ': u'Calvin Harris - Feels (Official Video) ft. Pharrell Williams, Katy Perry, Big Sean', 'URL': u'https://www.youtube.com/watch?v=ozv4q2ov3Mk', 'Username': u'CalvinHarrisVEVO', 'Duration': u'3:43', 'Views': u'7,844,768 views'}, {'Title ': u'The Greatest Showman Official Trailer #1 (2017) Hugh Jackman, Zac Efron Musical Movie HD', 'URL': u'https://www.youtube.com/watch?v=4P9WMQStHjE', 'Username': u'Zero Media', 'Duration': u'2:39', 'Views': u'592,216 views'}, {'Title ': u'Everything Wrong With Despicable Me In 19 Minutes Or Less', 'URL': u'https://www.youtube.com/watch?v=CUDyr9b8aKY', 'Username': u'CinemaSins', 'Duration': u'20:06', 'Views': u'1,879,633 views'}, {'Title ': u\"I'm going away for a bit\", 'URL': u'https://www.youtube.com/watch?v=LgrEujPI4jk', 'Username': u'Anna Akana', 'Duration': u'0:47', 'Views': u'874,693 views'}, {'Title ': u'Future - PIE ft. Chris Brown', 'URL': u'https://www.youtube.com/watch?v=obWywMv-N4k', 'Username': u'FutureVEVO', 'Duration': u'3:44', 'Views': u'5,349,550 views'}, {'Title ': u'Epic Disney Villains Medley - Peter Hollens feat. Whitney Avalon', 'URL': u'https://www.youtube.com/watch?v=tBYGmHagPDE', 'Username': u'Peter Hollens', 'Duration': u'6:15', 'Views': u'1,545,826 views'}, {'Title ': u'Wonder Woman - Nostalgia Critic', 'URL': u'https://www.youtube.com/watch?v=6SPJGIKZzp0', 'Username': u'Channel Awesome', 'Duration': u'25:22', 'Views': u'662,354 views'}, {'Title ': u'$500 Selfie Drone! | DOPE or NOPE?', 'URL': u'https://www.youtube.com/watch?v=h87l1qiGFRU', 'Username': u'Matthias', 'Duration': u'13:44', 'Views': u'1,187,368 views'}, {'Title ': u'Secret Ingredient with Ashton Kutcher, Liam Payne, Vanessa Hudgens and Mario Batali', 'URL': u'https://www.youtube.com/watch?v=ymbEDaIN_I4', 'Username': u'The Tonight Show Starring Jimmy Fallon', 'Duration': u'8:52', 'Views': u'2,148,235 views'}]\n"
     ]
    }
   ],
   "source": [
    "prepared_data = []\n",
    "for i,j,z,x in zip(url_and_title,duration,username,final_views):\n",
    "    prepared_data.append({'Title ' :i.get(\"title\"),\"URL\" : \"https://www.youtube.com\"+i.get('href'),'Duration':j.text,\"Username\":z.text,\"Views\": x})\n",
    "print(prepared_data)"
   ]
  },
  {
   "cell_type": "markdown",
   "metadata": {},
   "source": [
    "Saving as JSON"
   ]
  },
  {
   "cell_type": "code",
   "execution_count": 5,
   "metadata": {
    "collapsed": true
   },
   "outputs": [],
   "source": [
    "import json\n",
    "\n",
    "with open('youtub_trending.json', 'w') as output:\n",
    "    json.dump(prepared_data, output, sort_keys = True, indent = 4)"
   ]
  },
  {
   "cell_type": "markdown",
   "metadata": {},
   "source": [
    "Saving as CSV"
   ]
  },
  {
   "cell_type": "code",
   "execution_count": 6,
   "metadata": {
    "collapsed": true
   },
   "outputs": [],
   "source": [
    "import unicodecsv as csv\n",
    "\n",
    "with open('youtub_trending.csv', 'w') as c:\n",
    "    for i in prepared_data:\n",
    "            writer = csv.writer(c)\n",
    "            for z, x in i.items():\n",
    "                writer.writerow([z, x])\n",
    "            writer.writerow([])"
   ]
  },
  {
   "cell_type": "markdown",
   "metadata": {},
   "source": []
  },
  {
   "cell_type": "markdown",
   "metadata": {},
   "source": [
    "2 Getting the data by using urllib2 and lxml and saving into a CSV and a JSON file"
   ]
  },
  {
   "cell_type": "code",
   "execution_count": 11,
   "metadata": {
    "collapsed": true
   },
   "outputs": [],
   "source": [
    "import urllib2\n",
    "from lxml import html"
   ]
  },
  {
   "cell_type": "code",
   "execution_count": 12,
   "metadata": {
    "collapsed": true
   },
   "outputs": [],
   "source": [
    "url = \"https://www.youtube.com/feed/trending\"\n",
    "response = urllib2.urlopen(url)\n",
    "page = response.read()\n",
    "tree = html.document_fromstring(page)"
   ]
  },
  {
   "cell_type": "code",
   "execution_count": 13,
   "metadata": {
    "collapsed": true
   },
   "outputs": [],
   "source": [
    "url_and_title= tree.cssselect('[class=\"yt-uix-tile-link yt-ui-ellipsis yt-ui-ellipsis-2 yt-uix-sessionlink      spf-link \"]')\n",
    "duration=tree.cssselect('[class=\"video-time\"]')\n",
    "username=tree.cssselect('[class=\"g-hovercard yt-uix-sessionlink       spf-link \"]')"
   ]
  },
  {
   "cell_type": "code",
   "execution_count": 14,
   "metadata": {
    "collapsed": true
   },
   "outputs": [],
   "source": [
    "views = tree.cssselect('[class=\"yt-lockup-meta-info\"] ' ) \n",
    "list=[]\n",
    "for i in views:\n",
    "    for j in i:\n",
    "        list.append(j.text)\n",
    "final_views = list[1::2]"
   ]
  },
  {
   "cell_type": "code",
   "execution_count": 15,
   "metadata": {
    "collapsed": false
   },
   "outputs": [
    {
     "name": "stdout",
     "output_type": "stream",
     "text": [
      "[{'Title ': 'JUMANJI: WELCOME TO THE JUNGLE - Official Trailer (HD)', 'URL': 'https://www.youtube.com/watch?v=2QKg5SZ_35I', 'Username': 'Sony Pictures Entertainment', 'Duration': '2:46', 'Views': '2,974,978 views'}, {'Title ': 'Everything Wrong With Despicable Me 2 In 16 Minutes Or Less', 'URL': 'https://www.youtube.com/watch?v=kFQUlA-G0N4', 'Username': 'CinemaSins', 'Duration': '18:41', 'Views': '1,536,000 views'}, {'Title ': \"Marvel's Inhumans - Official Trailer 1\", 'URL': 'https://www.youtube.com/watch?v=1sYF1SXcWqQ', 'Username': 'Marvel Entertainment', 'Duration': '1:57', 'Views': '3,438,491 views'}, {'Title ': 'Death Note | Official Trailer [HD] | Netflix', 'URL': 'https://www.youtube.com/watch?v=gvxNaSIB_WI', 'Username': 'Netflix', 'Duration': '2:18', 'Views': '1,076,018 views'}, {'Title ': \"Trump Doesn't Seem to Know Anything About Health Care: A Closer Look\", 'URL': 'https://www.youtube.com/watch?v=GO9JMR2m8O0', 'Username': 'Conagh Kathleen', 'Duration': '8:46', 'Views': '3 days ago'}, {'Title ': 'Breathe Official Trailer #1 (2017) Andrew Garfield, Claire Foy Biography Movie HD', 'URL': 'https://www.youtube.com/watch?v=7_YnYrLfjxA', 'Username': 'Conagh Kathleen', 'Duration': '9:48', 'Views': '1 week ago'}, {'Title ': \"Will Ferrell & Amy Poehler Answer the Web's Most Searched Questions | WIRED\", 'URL': 'https://www.youtube.com/watch?v=k___aVjwEXs', 'Username': 'Conagh Kathleen', 'Duration': '16:06', 'Views': '9 months ago'}, {'Title ': 'Seth Rogen and Dominic Cooper Suffer While Eating Spicy Wings | Hot Ones', 'URL': 'https://www.youtube.com/watch?v=QulEM-Azzug', 'Username': 'Conagh Kathleen', 'Duration': '7:45', 'Views': '2 weeks ago'}, {'Title ': '2,000G AQUARIUM LEAKED!!!', 'URL': 'https://www.youtube.com/watch?v=HRS-aSgHdQc', 'Username': 'Conagh Kathleen', 'Duration': '12:30', 'Views': '3 weeks ago'}, {'Title ': 'Weather boi', 'URL': 'https://www.youtube.com/watch?v=py44k46RR_0', 'Username': 'Conagh Kathleen', 'Duration': '11:23', 'Views': '2 months ago'}, {'Title ': u'Van Jones: Russia is \\xe2\\x80\\x9cNothing burger\\xe2\\x80\\x9d\\xe2\\x80\\x93 American Pravda: CNN Part 2', 'URL': 'https://www.youtube.com/watch?v=l2G360HrSAs', 'Username': 'Late Night with Seth Meyers', 'Duration': '10:50', 'Views': '698,777 views'}, {'Title ': \"Medicaid's Last Stand | June 28, 2017 Part 1 | Full Frontal on TBS\", 'URL': 'https://www.youtube.com/watch?v=0EzEMsZFrXY', 'Username': 'Zero Media', 'Duration': '2:52', 'Views': '1,076,631 views'}, {'Title ': 'Bathroom Bullies - Cyanide & Happiness Shorts', 'URL': 'https://www.youtube.com/watch?v=fjQ0lpY1OgM', 'Username': 'WIRED', 'Duration': '6:05', 'Views': '679,708 views'}, {'Title ': 'The Hamilton Mixtape: Immigrants (We Get The Job Done)', 'URL': 'https://www.youtube.com/watch?v=6_35a7sn6ds', 'Username': 'First We Feast', 'Duration': '13:28', 'Views': '1,019,032 views'}, {'Title ': 'The xx - I Dare You (Official Music Video)', 'URL': 'https://www.youtube.com/watch?v=qqflFMhkqHM', 'Username': 'The king of DIY', 'Duration': '8:25', 'Views': '264,208 views'}, {'Title ': 'Spider-man: Homecoming - Movie Review', 'URL': 'https://www.youtube.com/watch?v=HyPAi2Y9-_w', 'Username': 'Fireattack142', 'Duration': '0:12', 'Views': '1,025,292 views'}, {'Title ': 'Kristen Wiig Makes Up Fake Cocktail Recipes on the Spot', 'URL': 'https://www.youtube.com/watch?v=R--Y1rWsov4', 'Username': 'veritasvisuals', 'Duration': '3:55', 'Views': '1,387,169 views'}, {'Title ': 'When Should Remakes Not Happen?', 'URL': 'https://www.youtube.com/watch?v=Fh2W3FpfoQ8', 'Username': 'Full Frontal with Samantha Bee', 'Duration': '5:56', 'Views': '406,303 views'}, {'Title ': 'The \"Mountain Or Valley?\" Illusion', 'URL': 'https://www.youtube.com/watch?v=V7C318DGB38', 'Username': 'ExplosmEntertainment', 'Duration': '1:14', 'Views': '1,742,399 views'}, {'Title ': 'GIANT SALAMANDER FOUND!', 'URL': 'https://www.youtube.com/watch?v=k17NmE6LLG8', 'Username': 'Hamilton: An American Musical', 'Duration': '6:08', 'Views': '1,301,466 views'}, {'Title ': 'NRA Ad', 'URL': 'https://www.youtube.com/watch?v=PrnIVVWtAag', 'Username': 'The xx', 'Duration': '6:54', 'Views': '435,593 views'}, {'Title ': 'HUSBAND DOES MY MAKE UP CHALLENGE (JERIKA EDITION)', 'URL': 'https://www.youtube.com/watch?v=C_voqSfIvGY', 'Username': 'Jeremy Jahns', 'Duration': '5:46', 'Views': '558,459 views'}, {'Title ': 'Telling a Story from the Inside Out', 'URL': 'https://www.youtube.com/watch?v=ulm7bcB2xvY', 'Username': 'The Tonight Show Starring Jimmy Fallon', 'Duration': '5:26', 'Views': '421,442 views'}, {'Title ': 'The Punjabi Wedding Breakdown (PART 2)', 'URL': 'https://www.youtube.com/watch?v=uEa_PI7jyT4', 'Username': 'Channel Awesome', 'Duration': '12:16', 'Views': '445,411 views'}, {'Title ': 'The Greatest Showman | Official Trailer | 20th Century FOX', 'URL': 'https://www.youtube.com/watch?v=AXCTMGYUg9A', 'Username': 'minutephysics', 'Duration': '4:13', 'Views': '470,635 views'}, {'Title ': 'Exclusive: Lamar Odom Talks Sobriety & Kardashians', 'URL': 'https://www.youtube.com/watch?v=kwxJxdfpEYY', 'Username': 'Brave Wilderness', 'Duration': '13:41', 'Views': '4,419,549 views'}, {'Title ': u'Simon Cowell Shows Amazing HEART Steps In To Save Dog Trainer | America\\xe2\\x80\\x99s Got Talent 2017', 'URL': 'https://www.youtube.com/watch?v=uDQtTfAn5hk', 'Username': 'vgolfoz', 'Duration': '1:05', 'Views': '63,810 views'}, {'Title ': 'Kendrick Lamar - ELEMENT.', 'URL': 'https://www.youtube.com/watch?v=glaG64Ao7sM', 'Username': 'Team 10', 'Duration': '9:03', 'Views': '1,951,243 views'}, {'Title ': 'Surfers Make an Infinity Wave Pool by Hand', 'URL': 'https://www.youtube.com/watch?v=DtYEKvNwYwI', 'Username': 'Lessons from the Screenplay', 'Duration': '12:51', 'Views': '110,109 views'}, {'Title ': 'WHAT IF HARRY POTTER...', 'URL': 'https://www.youtube.com/watch?v=s8SHFfqqjec', 'Username': 'JusReign', 'Duration': '20:29', 'Views': '308,792 views'}, {'Title ': 'Turn your car into a bed with the Carvet', 'URL': 'https://www.youtube.com/watch?v=BLL8WNZ9b4o', 'Username': '20th Century Fox', 'Duration': '2:24', 'Views': '2,756,838 views'}, {'Title ': 'My longest hello everybody ever', 'URL': 'https://www.youtube.com/watch?v=BptxiIJhGd4', 'Username': 'Wendy Williams', 'Duration': '16:18', 'Views': '983,200 views'}, {'Title ': u'INGRID GOES WEST [Theatrical Trailer] \\xe2\\x80\\x93 In Theaters August 11th', 'URL': 'https://www.youtube.com/watch?v=2STZ5D3yi74', 'Username': 'Talent Recap', 'Duration': '4:54', 'Views': '3,805,383 views'}, {'Title ': 'We Tried Instagram Toilet Paper Lips (feat. Candace Lowry)', 'URL': 'https://www.youtube.com/watch?v=Gz29vsIPbXI', 'Username': 'KendrickLamarVEVO', 'Duration': '3:34', 'Views': '8,325,928 views'}, {'Title ': 'POLAROID - Official Trailer', 'URL': 'https://www.youtube.com/watch?v=3Zmk3z1ZJzA', 'Username': 'INSIDER', 'Duration': '1:09', 'Views': '147,242 views'}, {'Title ': 'iPhone - 10 Years Later', 'URL': 'https://www.youtube.com/watch?v=m5s3AraKZ1E', 'Username': 'Smosh', 'Duration': '4:03', 'Views': '1,135,434 views'}, {'Title ': \"NEW GAME! Simon's Cat - Crunch Time\", 'URL': 'https://www.youtube.com/watch?v=gHfvnZ6RX8I', 'Username': 'colinfurze', 'Duration': '5:03', 'Views': '789,279 views'}, {'Title ': 'Adam Lambert - Two Fux [Lyric Video]', 'URL': 'https://www.youtube.com/watch?v=VwTZEWI3wvw', 'Username': 'Markiplier', 'Duration': '1:28', 'Views': '2,207,579 views'}, {'Title ': \"'YAKKO'S WORLD' Sung by 168 Movies!\", 'URL': 'https://www.youtube.com/watch?v=93OZxbDT2ho', 'Username': 'NEON', 'Duration': '2:22', 'Views': '452,502 views'}, {'Title ': u'My Little Pony: The Movie (2017) Official Trailer \\xe2\\x80\\x93 Emily Blunt, Sia, Zoe Saldana \\xe2\\x80\\x93 In Theaters 10/6', 'URL': 'https://www.youtube.com/watch?v=kIv_ConaZ1c', 'Username': 'Safiya Nygaard', 'Duration': '11:03', 'Views': '1,180,520 views'}, {'Title ': \"DIY Flamin' Hot Doughnut Grilled Cheese, Corinne VS Cooking #20\", 'URL': 'https://www.youtube.com/watch?v=kM0z5bdlsbk', 'Username': 'The Weinstein Company', 'Duration': '2:25', 'Views': '603,608 views'}, {'Title ': 'Ed Sheeran on Shortland Street', 'URL': 'https://www.youtube.com/watch?v=C0kMh8-4-Tg', 'Username': 'Austin Evans', 'Duration': '4:36', 'Views': '442,452 views'}, {'Title ': u'Sausage & Broccoli Rabe Pasta Pie \\xf0\\x9f\\x8d\\x9d | Episode 1171', 'URL': 'https://www.youtube.com/watch?v=BsueVGTwggc', 'Username': \"Simon's Cat\", 'Duration': '0:46', 'Views': '129,710 views'}, {'Title ': 'In-N-Out 4x4x4 CHALLENGE', 'URL': 'https://www.youtube.com/watch?v=TYiK6a2wejw', 'Username': 'Adam Lambert', 'Duration': '3:26', 'Views': '30,647 views'}, {'Title ': 'The Killers - The Man', 'URL': 'https://www.youtube.com/watch?v=w3xcybdis1k', 'Username': 'The Unusual Suspect', 'Duration': '2:04', 'Views': '160,353 views'}, {'Title ': \"Reporter Reacts to Sarah Huckabee Sanders: 'We Are Not Fake News' | Morning Joe | MSNBC\", 'URL': 'https://www.youtube.com/watch?v=UkC82aPSdbk', 'Username': 'Lionsgate Movies', 'Duration': '2:24', 'Views': '298,092 views'}, {'Title ': \"The National - 'Guilty Party'\", 'URL': 'https://www.youtube.com/watch?v=71xmrULJ-ms', 'Username': 'ThreadBanger', 'Duration': '7:28', 'Views': '922,433 views'}, {'Title ': 'Susanna Reid dies a little inside every time Piers Morgan opens his mouth...', 'URL': 'https://www.youtube.com/watch?v=fVExq6zHOXA', 'Username': 'South Pacific Pictures', 'Duration': '1:13', 'Views': '41,222 views'}, {'Title ': 'Vaccines: Last Week Tonight with John Oliver (HBO)', 'URL': 'https://www.youtube.com/watch?v=7VG_s2PCH_c', 'Username': 'Laura in the Kitchen', 'Duration': '8:49', 'Views': '36,362 views'}, {'Title ': 'The Milk Man - Cyanide & Happiness Minis', 'URL': 'https://www.youtube.com/watch?v=Zz4FLjMEKf4', 'Username': 'Matt Stonie', 'Duration': '5:10', 'Views': '1,019,816 views'}, {'Title ': 'Pitch Perfect 3 - Official Trailer [HD]', 'URL': 'https://www.youtube.com/watch?v=Hihto8onbUU', 'Username': 'TheKillersVEVO', 'Duration': '4:27', 'Views': '1,063,781 views'}, {'Title ': 'Binging with Babish: Cocktail Special', 'URL': 'https://www.youtube.com/watch?v=v5tJBLfeurU', 'Username': 'MSNBC', 'Duration': '11:05', 'Views': '164,361 views'}, {'Title ': 'Tattoo Artists Critique Rihanna, Justin Bieber, and More Celebrity Tattoos | GQ', 'URL': 'https://www.youtube.com/watch?v=qzlGB3eOjlU', 'Username': 'The National', 'Duration': '5:40', 'Views': '159,255 views'}, {'Title ': 'Game of Thrones Season 7: #WinterIsHere Trailer #2 (HBO)', 'URL': 'https://www.youtube.com/watch?v=1Mlhnt0jMlg', 'Username': 'JOE_co_uk', 'Duration': '1:22', 'Views': '483,205 views'}, {'Title ': 'BulgariaSat-1 Launch Webcast', 'URL': 'https://www.youtube.com/watch?v=Y8mLi-rRTh8', 'Username': 'LastWeekTonight', 'Duration': '27:15', 'Views': '4,946,879 views'}, {'Title ': 'Toby Keith - Wacky Tobaccy', 'URL': 'https://www.youtube.com/watch?v=2kGEhX_s2_g', 'Username': 'ExplosmEntertainment', 'Duration': '1:12', 'Views': '2,786,015 views'}, {'Title ': 'Casually Explained: Finding The One', 'URL': 'https://www.youtube.com/watch?v=TgHtp16pXfg', 'Username': 'Pitch Perfect', 'Duration': '2:28', 'Views': '7,092,303 views'}, {'Title ': 'ADULTS REACT TO RICK AND MORTY', 'URL': 'https://www.youtube.com/watch?v=coJ3UwP0Ri0', 'Username': 'Binging with Babish', 'Duration': '6:04', 'Views': '759,405 views'}, {'Title ': 'The TRUTH about KIM KARDASHIAN CONTOUR + HIGHLIGHT KIT', 'URL': 'https://www.youtube.com/watch?v=lQ0HaBWk9Lk', 'Username': 'GQ', 'Duration': '5:47', 'Views': '4,171,947 views'}, {'Title ': 'I CUT MY OWN HAIR! Carli Bybel', 'URL': 'https://www.youtube.com/watch?v=67ts0xgn7Lw', 'Username': 'HBO', 'Duration': '2:09', 'Views': '18,660,630 views'}, {'Title ': u'LaVar Ball takes over \\xe2\\x80\\x9cMiz TV\\xe2\\x80\\x9d: Raw, June 26, 2017', 'URL': 'https://www.youtube.com/watch?v=yq_h8Y6ecnQ', 'Username': 'SpaceX', 'Duration': '53:24', 'Views': '1,042,581 views'}, {'Title ': 'Nicki Minaj Full Performance NBA Awards 2017', 'URL': 'https://www.youtube.com/watch?v=1rcBq0cnwXI', 'Username': 'TobyKeithVEVO', 'Duration': '3:08', 'Views': '3,010,148 views'}, {'Title ': 'Johnny Manuel: Guy Covers Whitney Houston\\'s \"I Have Nothing\" - America\\'s Got Talent 2017', 'URL': 'https://www.youtube.com/watch?v=72WMprLONBQ', 'Username': 'Casually Explained', 'Duration': '4:05', 'Views': '1,544,612 views'}, {'Title ': 'Calvin Harris - Feels (Official Video) ft. Pharrell Williams, Katy Perry, Big Sean', 'URL': 'https://www.youtube.com/watch?v=ozv4q2ov3Mk', 'Username': 'FBE', 'Duration': '13:29', 'Views': '2,353,377 views'}, {'Title ': \"I'm going away for a bit\", 'URL': 'https://www.youtube.com/watch?v=LgrEujPI4jk', 'Username': 'Tati', 'Duration': '17:03', 'Views': '1,353,059 views'}, {'Title ': 'Future - PIE ft. Chris Brown', 'URL': 'https://www.youtube.com/watch?v=obWywMv-N4k', 'Username': 'Carli Bybel', 'Duration': '14:32', 'Views': '839,012 views'}, {'Title ': 'Epic Disney Villains Medley - Peter Hollens feat. Whitney Avalon', 'URL': 'https://www.youtube.com/watch?v=tBYGmHagPDE', 'Username': 'WWE', 'Duration': '4:21', 'Views': '1,413,684 views'}, {'Title ': u\"\\xf0\\x9f\\x94\\xa5 World's Most Dangerous Rope \\xf0\\x9f\\x92\\xa3\\xf0\\x9f\\x92\\xa5\", 'URL': 'https://www.youtube.com/watch?v=JUk5j500U80', 'Username': 'Music & Sport', 'Duration': '6:06', 'Views': '499,652 views'}, {'Title ': '$500 Selfie Drone! | DOPE or NOPE?', 'URL': 'https://www.youtube.com/watch?v=h87l1qiGFRU', 'Username': \"America's Got Talent\", 'Duration': '3:41', 'Views': '3,442,712 views'}, {'Title ': 'INCREDIBLE LUFTHANSA FIRST CLASS REVIEW featuring WESLEY SNIPES', 'URL': 'https://www.youtube.com/watch?v=oS169nq8Prw', 'Username': 'CalvinHarrisVEVO', 'Duration': '3:43', 'Views': '9,292,657 views'}, {'Title ': 'GOOGLING MYSELF!! MY NET WORTH.', 'URL': 'https://www.youtube.com/watch?v=tgmlIh9njLk', 'Username': 'Anna Akana', 'Duration': '0:47', 'Views': '885,071 views'}, {'Title ': u'Pok\\xc3\\xa9mon by myself', 'URL': 'https://www.youtube.com/watch?v=OAsBNz9ejA8', 'Username': 'FutureVEVO', 'Duration': '3:44', 'Views': '6,052,575 views'}]\n"
     ]
    }
   ],
   "source": [
    "prepared_data = []\n",
    "for i,j,z,x in zip(url_and_title,duration,username,final_views):\n",
    "    prepared_data.append({'Title ' :i.get(\"title\"),\"URL\" : \"https://www.youtube.com\"+i.get('href'),'Duration':j.text,\"Username\":z.text,\"Views\": x})\n",
    "print(prepared_data)"
   ]
  },
  {
   "cell_type": "code",
   "execution_count": 16,
   "metadata": {
    "collapsed": true
   },
   "outputs": [],
   "source": [
    "import json\n",
    "\n",
    "with open('youtube_trending_2.json', 'w') as output:\n",
    "    json.dump(prepared_data, output, sort_keys = True, indent = 4)"
   ]
  },
  {
   "cell_type": "code",
   "execution_count": 17,
   "metadata": {
    "collapsed": true
   },
   "outputs": [],
   "source": [
    "import unicodecsv as csv\n",
    "\n",
    "with open('youtube_trending_2.csv', 'w') as c:\n",
    "    for i in prepared_data:\n",
    "            writer = csv.writer(c)\n",
    "            for z, x in i.items():\n",
    "                writer.writerow([z, x])\n",
    "            writer.writerow([])"
   ]
  }
 ],
 "metadata": {
  "kernelspec": {
   "display_name": "Python 2",
   "language": "python",
   "name": "python2"
  },
  "language_info": {
   "codemirror_mode": {
    "name": "ipython",
    "version": 2
   },
   "file_extension": ".py",
   "mimetype": "text/x-python",
   "name": "python",
   "nbconvert_exporter": "python",
   "pygments_lexer": "ipython2",
   "version": "2.7.13"
  }
 },
 "nbformat": 4,
 "nbformat_minor": 2
}
