{
 "cells": [
  {
   "cell_type": "markdown",
   "metadata": {},
   "source": [
    "# Homework 4"
   ]
  },
  {
   "cell_type": "markdown",
   "metadata": {},
   "source": [
    "1 Getting the data by using requests and BeautifulSoup and saving into a CSV and a JSON file"
   ]
  },
  {
   "cell_type": "code",
   "execution_count": 2,
   "metadata": {
    "collapsed": true
   },
   "outputs": [],
   "source": [
    "from BeautifulSoup import *\n",
    "url = \"https://www.youtube.com/feed/trending\"\n",
    "import requests\n",
    "response = requests.get(url)\n",
    "page = response.text\n",
    "soup = BeautifulSoup(page)"
   ]
  },
  {
   "cell_type": "code",
   "execution_count": 3,
   "metadata": {
    "collapsed": true
   },
   "outputs": [],
   "source": [
    "username = soup.findAll('a', attrs = {'class': 'g-hovercard yt-uix-sessionlink       spf-link '}) \n",
    "url_and_title = soup.findAll('a', attrs={'class':\"yt-uix-tile-link yt-ui-ellipsis yt-ui-ellipsis-2 yt-uix-sessionlink      spf-link \"})\n",
    "duration = soup.findAll('span', attrs = {'class': 'video-time'})"
   ]
  },
  {
   "cell_type": "code",
   "execution_count": 4,
   "metadata": {
    "collapsed": true
   },
   "outputs": [],
   "source": [
    "views = soup.findAll('ul', attrs = {'class': 'yt-lockup-meta-info'})\n",
    "import re\n",
    "v=str(views)\n",
    "final_views = re.findall('>([0-9]\\S*)\\s*views', v)"
   ]
  },
  {
   "cell_type": "code",
   "execution_count": 5,
   "metadata": {
    "collapsed": false
   },
   "outputs": [
    {
     "name": "stdout",
     "output_type": "stream",
     "text": [
      "[{'Title ': u'JUMANJI: WELCOME TO THE JUNGLE - Official Trailer (HD)', 'URL': u'https://www.youtube.com/watch?v=2QKg5SZ_35I', 'Username': u'Sony Pictures Entertainment', 'Duration': u'2:46', 'Views': '3,269,734'}, {'Title ': u'Everything Wrong With Despicable Me 2 In 16 Minutes Or Less', 'URL': u'https://www.youtube.com/watch?v=kFQUlA-G0N4', 'Username': u'CinemaSins', 'Duration': u'18:41', 'Views': '1,631,584'}, {'Title ': u\"Marvel's Inhumans - Official Trailer 1\", 'URL': u'https://www.youtube.com/watch?v=1sYF1SXcWqQ', 'Username': u'Marvel Entertainment', 'Duration': u'1:57', 'Views': '3,592,392'}, {'Title ': u'Death Note | Official Trailer [HD] | Netflix', 'URL': u'https://www.youtube.com/watch?v=gvxNaSIB_WI', 'Username': u'Netflix', 'Duration': u'2:18', 'Views': '1,140,068'}, {'Title ': u\"Trump Doesn't Seem to Know Anything About Health Care: A Closer Look\", 'URL': u'https://www.youtube.com/watch?v=GO9JMR2m8O0', 'Username': u'Conagh Kathleen', 'Duration': u'8:46', 'Views': '59,870'}, {'Title ': u'Breathe Official Trailer #1 (2017) Andrew Garfield, Claire Foy Biography Movie HD', 'URL': u'https://www.youtube.com/watch?v=7_YnYrLfjxA', 'Username': u'Conagh Kathleen', 'Duration': u'9:48', 'Views': '715,689'}, {'Title ': u\"Will Ferrell & Amy Poehler Answer the Web's Most Searched Questions | WIRED\", 'URL': u'https://www.youtube.com/watch?v=k___aVjwEXs', 'Username': u'Conagh Kathleen', 'Duration': u'16:06', 'Views': '110,469'}, {'Title ': u'Seth Rogen and Dominic Cooper Suffer While Eating Spicy Wings | Hot Ones', 'URL': u'https://www.youtube.com/watch?v=QulEM-Azzug', 'Username': u'Conagh Kathleen', 'Duration': u'7:45', 'Views': '5,239'}, {'Title ': u'2,000G AQUARIUM LEAKED!!!', 'URL': u'https://www.youtube.com/watch?v=HRS-aSgHdQc', 'Username': u'Conagh Kathleen', 'Duration': u'12:30', 'Views': '7,239'}, {'Title ': u'Weather boi', 'URL': u'https://www.youtube.com/watch?v=py44k46RR_0', 'Username': u'Conagh Kathleen', 'Duration': u'11:23', 'Views': '86,877'}, {'Title ': u'Van Jones: Russia is \\u201cNothing burger\\u201d\\u2013 American Pravda: CNN Part 2', 'URL': u'https://www.youtube.com/watch?v=l2G360HrSAs', 'Username': u'Late Night with Seth Meyers', 'Duration': u'10:50', 'Views': '814,582'}, {'Title ': u\"Medicaid's Last Stand | June 28, 2017 Part 1 | Full Frontal on TBS\", 'URL': u'https://www.youtube.com/watch?v=0EzEMsZFrXY', 'Username': u'Zero Media', 'Duration': u'2:52', 'Views': '1,129,317'}, {'Title ': u'Bathroom Bullies - Cyanide & Happiness Shorts', 'URL': u'https://www.youtube.com/watch?v=fjQ0lpY1OgM', 'Username': u'WIRED', 'Duration': u'6:05', 'Views': '719,371'}, {'Title ': u'The xx - I Dare You (Official Music Video)', 'URL': u'https://www.youtube.com/watch?v=qqflFMhkqHM', 'Username': u'First We Feast', 'Duration': u'13:28', 'Views': '1,057,872'}, {'Title ': u'The Hamilton Mixtape: Immigrants (We Get The Job Done)', 'URL': u'https://www.youtube.com/watch?v=6_35a7sn6ds', 'Username': u'The king of DIY', 'Duration': u'8:25', 'Views': '277,398'}, {'Title ': u'Spider-man: Homecoming - Movie Review', 'URL': u'https://www.youtube.com/watch?v=HyPAi2Y9-_w', 'Username': u'Fireattack142', 'Duration': u'0:12', 'Views': '1,068,290'}, {'Title ': u'Kristen Wiig Makes Up Fake Cocktail Recipes on the Spot', 'URL': u'https://www.youtube.com/watch?v=R--Y1rWsov4', 'Username': u'veritasvisuals', 'Duration': u'3:55', 'Views': '1,394,781'}, {'Title ': u'When Should Remakes Not Happen?', 'URL': u'https://www.youtube.com/watch?v=Fh2W3FpfoQ8', 'Username': u'Full Frontal with Samantha Bee', 'Duration': u'5:56', 'Views': '415,814'}, {'Title ': u'The \"Mountain Or Valley?\" Illusion', 'URL': u'https://www.youtube.com/watch?v=V7C318DGB38', 'Username': u'ExplosmEntertainment', 'Duration': u'1:14', 'Views': '1,772,816'}, {'Title ': u'GIANT SALAMANDER FOUND!', 'URL': u'https://www.youtube.com/watch?v=k17NmE6LLG8', 'Username': u'The xx', 'Duration': u'6:54', 'Views': '482,339'}, {'Title ': u'Telling a Story from the Inside Out', 'URL': u'https://www.youtube.com/watch?v=ulm7bcB2xvY', 'Username': u'Hamilton: An American Musical', 'Duration': u'6:08', 'Views': '1,321,528'}, {'Title ': u'HUSBAND DOES MY MAKE UP CHALLENGE (JERIKA EDITION)', 'URL': u'https://www.youtube.com/watch?v=C_voqSfIvGY', 'Username': u'Jeremy Jahns', 'Duration': u'5:46', 'Views': '572,641'}, {'Title ': u'The Punjabi Wedding Breakdown (PART 2)', 'URL': u'https://www.youtube.com/watch?v=uEa_PI7jyT4', 'Username': u'The Tonight Show Starring Jimmy Fallon', 'Duration': u'5:26', 'Views': '434,349'}, {'Title ': u'NRA Ad', 'URL': u'https://www.youtube.com/watch?v=PrnIVVWtAag', 'Username': u'Channel Awesome', 'Duration': u'12:16', 'Views': '450,300'}, {'Title ': u'The Greatest Showman | Official Trailer | 20th Century FOX', 'URL': u'https://www.youtube.com/watch?v=AXCTMGYUg9A', 'Username': u'minutephysics', 'Duration': u'4:13', 'Views': '509,778'}, {'Title ': u'Surfers Make an Infinity Wave Pool by Hand', 'URL': u'https://www.youtube.com/watch?v=DtYEKvNwYwI', 'Username': u'Brave Wilderness', 'Duration': u'13:41', 'Views': '4,449,953'}, {'Title ': u'Simon Cowell Shows Amazing HEART Steps In To Save Dog Trainer | America\\u2019s Got Talent 2017', 'URL': u'https://www.youtube.com/watch?v=uDQtTfAn5hk', 'Username': u'Lessons from the Screenplay', 'Duration': u'12:51', 'Views': '115,282'}, {'Title ': u'Exclusive: Lamar Odom Talks Sobriety & Kardashians', 'URL': u'https://www.youtube.com/watch?v=kwxJxdfpEYY', 'Username': u'Team 10', 'Duration': u'9:03', 'Views': '1,967,842'}, {'Title ': u'Turn your car into a bed with the Carvet', 'URL': u'https://www.youtube.com/watch?v=BLL8WNZ9b4o', 'Username': u'JusReign', 'Duration': u'20:29', 'Views': '315,781'}, {'Title ': u'WHAT IF HARRY POTTER...', 'URL': u'https://www.youtube.com/watch?v=s8SHFfqqjec', 'Username': u'vgolfoz', 'Duration': u'1:05', 'Views': '70,376'}, {'Title ': u'My longest hello everybody ever', 'URL': u'https://www.youtube.com/watch?v=BptxiIJhGd4', 'Username': u'20th Century Fox', 'Duration': u'2:24', 'Views': '2,829,326'}, {'Title ': u'Kendrick Lamar - ELEMENT.', 'URL': u'https://www.youtube.com/watch?v=glaG64Ao7sM', 'Username': u'INSIDER', 'Duration': u'1:09', 'Views': '160,528'}, {'Title ': u'Adam Lambert - Two Fux [Lyric Video]', 'URL': u'https://www.youtube.com/watch?v=VwTZEWI3wvw', 'Username': u'Talent Recap', 'Duration': u'4:54', 'Views': '3,834,911'}, {'Title ': u'INGRID GOES WEST [Theatrical Trailer] \\u2013 In Theaters August 11th', 'URL': u'https://www.youtube.com/watch?v=2STZ5D3yi74', 'Username': u'Wendy Williams', 'Duration': u'16:18', 'Views': '995,935'}, {'Title ': u'We Tried Instagram Toilet Paper Lips (feat. Candace Lowry)', 'URL': u'https://www.youtube.com/watch?v=Gz29vsIPbXI', 'Username': u'colinfurze', 'Duration': u'5:03', 'Views': '822,615'}, {'Title ': u'POLAROID - Official Trailer', 'URL': u'https://www.youtube.com/watch?v=3Zmk3z1ZJzA', 'Username': u'Smosh', 'Duration': u'4:03', 'Views': '1,144,361'}, {'Title ': u'Ed Sheeran on Shortland Street', 'URL': u'https://www.youtube.com/watch?v=C0kMh8-4-Tg', 'Username': u'Markiplier', 'Duration': u'1:28', 'Views': '2,213,551'}, {'Title ': u\"NEW GAME! Simon's Cat - Crunch Time\", 'URL': u'https://www.youtube.com/watch?v=gHfvnZ6RX8I', 'Username': u'KendrickLamarVEVO', 'Duration': u'3:34', 'Views': '8,407,897'}, {'Title ': u'iPhone - 10 Years Later', 'URL': u'https://www.youtube.com/watch?v=m5s3AraKZ1E', 'Username': u'Adam Lambert', 'Duration': u'3:26', 'Views': '30,647'}, {'Title ': u'My Little Pony: The Movie (2017) Official Trailer \\u2013 Emily Blunt, Sia, Zoe Saldana \\u2013 In Theaters 10/6', 'URL': u'https://www.youtube.com/watch?v=kIv_ConaZ1c', 'Username': u'NEON', 'Duration': u'2:22', 'Views': '459,953'}, {'Title ': u'Sausage & Broccoli Rabe Pasta Pie \\U0001f35d | Episode 1171', 'URL': u'https://www.youtube.com/watch?v=BsueVGTwggc', 'Username': u'Safiya Nygaard', 'Duration': u'11:03', 'Views': '1,190,731'}, {'Title ': u\"DIY Flamin' Hot Doughnut Grilled Cheese, Corinne VS Cooking #20\", 'URL': u'https://www.youtube.com/watch?v=kM0z5bdlsbk', 'Username': u'The Weinstein Company', 'Duration': u'2:25', 'Views': '630,339'}, {'Title ': u\"Fox News host thinks Dems are hysterical about health care because 'we're all going to die'\", 'URL': u'https://www.youtube.com/watch?v=8QSX9fEDllo', 'Username': u'South Pacific Pictures', 'Duration': u'1:13', 'Views': '43,070'}, {'Title ': u'In-N-Out 4x4x4 CHALLENGE', 'URL': u'https://www.youtube.com/watch?v=TYiK6a2wejw', 'Username': u'Simon&#39;s Cat', 'Duration': u'0:46', 'Views': '134,717'}, {'Title ': u'The Killers - The Man', 'URL': u'https://www.youtube.com/watch?v=w3xcybdis1k', 'Username': u'Austin Evans', 'Duration': u'4:36', 'Views': '453,717'}, {'Title ': u'Toro y Moi - \"You and I\" (official music video)', 'URL': u'https://www.youtube.com/watch?v=huA5-ViXEoo', 'Username': u'Lionsgate Movies', 'Duration': u'2:24', 'Views': '304,098'}, {'Title ': u\"No-Fry Fried Ice Cream - Gemma's Bigger Bolder Baking Ep 180\", 'URL': u'https://www.youtube.com/watch?v=E7lfkYVjdNw', 'Username': u'Laura in the Kitchen', 'Duration': u'8:49', 'Views': '37,875'}, {'Title ': u'Susanna Reid dies a little inside every time Piers Morgan opens his mouth...', 'URL': u'https://www.youtube.com/watch?v=fVExq6zHOXA', 'Username': u'ThreadBanger', 'Duration': u'7:28', 'Views': '928,498'}, {'Title ': u'Vaccines: Last Week Tonight with John Oliver (HBO)', 'URL': u'https://www.youtube.com/watch?v=7VG_s2PCH_c', 'Username': u'TP Clips', 'Duration': u'1:48', 'Views': '165,503'}, {'Title ': u'The Milk Man - Cyanide & Happiness Minis', 'URL': u'https://www.youtube.com/watch?v=Zz4FLjMEKf4', 'Username': u'Matt Stonie', 'Duration': u'5:10', 'Views': '1,030,071'}, {'Title ': u'Pitch Perfect 3 - Official Trailer [HD]', 'URL': u'https://www.youtube.com/watch?v=Hihto8onbUU', 'Username': u'TheKillersVEVO', 'Duration': u'4:27', 'Views': '1,086,402'}, {'Title ': u'Binging with Babish: Cocktail Special', 'URL': u'https://www.youtube.com/watch?v=v5tJBLfeurU', 'Username': u'Carpark Records', 'Duration': u'3:42', 'Views': '64,290'}, {'Title ': u'Tattoo Artists Critique Rihanna, Justin Bieber, and More Celebrity Tattoos | GQ', 'URL': u'https://www.youtube.com/watch?v=qzlGB3eOjlU', 'Username': u'Gemma Stafford', 'Duration': u'5:49', 'Views': '59,650'}, {'Title ': u'Game of Thrones Season 7: #WinterIsHere Trailer #2 (HBO)', 'URL': u'https://www.youtube.com/watch?v=1Mlhnt0jMlg', 'Username': u'JOE_co_uk', 'Duration': u'1:22', 'Views': '490,145'}, {'Title ': u'BulgariaSat-1 Launch Webcast', 'URL': u'https://www.youtube.com/watch?v=Y8mLi-rRTh8', 'Username': u'LastWeekTonight', 'Duration': u'27:15', 'Views': '4,956,340'}, {'Title ': u'Toby Keith - Wacky Tobaccy', 'URL': u'https://www.youtube.com/watch?v=2kGEhX_s2_g', 'Username': u'ExplosmEntertainment', 'Duration': u'1:12', 'Views': '2,796,919'}, {'Title ': u'Casually Explained: Finding The One', 'URL': u'https://www.youtube.com/watch?v=TgHtp16pXfg', 'Username': u'Pitch Perfect', 'Duration': u'2:28', 'Views': '7,206,390'}, {'Title ': u'ADULTS REACT TO RICK AND MORTY', 'URL': u'https://www.youtube.com/watch?v=coJ3UwP0Ri0', 'Username': u'Binging with Babish', 'Duration': u'6:04', 'Views': '760,542'}, {'Title ': u'The TRUTH about KIM KARDASHIAN CONTOUR + HIGHLIGHT KIT', 'URL': u'https://www.youtube.com/watch?v=lQ0HaBWk9Lk', 'Username': u'GQ', 'Duration': u'5:47', 'Views': '4,194,578'}, {'Title ': u'I CUT MY OWN HAIR! Carli Bybel', 'URL': u'https://www.youtube.com/watch?v=67ts0xgn7Lw', 'Username': u'HBO', 'Duration': u'2:09', 'Views': '18,681,718'}, {'Title ': u'LaVar Ball takes over \\u201cMiz TV\\u201d: Raw, June 26, 2017', 'URL': u'https://www.youtube.com/watch?v=yq_h8Y6ecnQ', 'Username': u'SpaceX', 'Duration': u'53:24', 'Views': '1,042,993'}, {'Title ': u'Nicki Minaj Full Performance NBA Awards 2017', 'URL': u'https://www.youtube.com/watch?v=1rcBq0cnwXI', 'Username': u'TobyKeithVEVO', 'Duration': u'3:08', 'Views': '3,011,857'}, {'Title ': u'Johnny Manuel: Guy Covers Whitney Houston\\'s \"I Have Nothing\" - America\\'s Got Talent 2017', 'URL': u'https://www.youtube.com/watch?v=72WMprLONBQ', 'Username': u'Casually Explained', 'Duration': u'4:05', 'Views': '1,546,030'}, {'Title ': u'Calvin Harris - Feels (Official Video) ft. Pharrell Williams, Katy Perry, Big Sean', 'URL': u'https://www.youtube.com/watch?v=ozv4q2ov3Mk', 'Username': u'FBE', 'Duration': u'13:29', 'Views': '2,356,881'}, {'Title ': u\"I'm going away for a bit\", 'URL': u'https://www.youtube.com/watch?v=LgrEujPI4jk', 'Username': u'Tati', 'Duration': u'17:03', 'Views': '1,359,776'}, {'Title ': u'Future - PIE ft. Chris Brown', 'URL': u'https://www.youtube.com/watch?v=obWywMv-N4k', 'Username': u'Carli Bybel', 'Duration': u'14:32', 'Views': '850,300'}, {'Title ': u'Epic Disney Villains Medley - Peter Hollens feat. Whitney Avalon', 'URL': u'https://www.youtube.com/watch?v=tBYGmHagPDE', 'Username': u'WWE', 'Duration': u'4:21', 'Views': '1,415,860'}, {'Title ': u\"\\U0001f525 World's Most Dangerous Rope \\U0001f4a3\\U0001f4a5\", 'URL': u'https://www.youtube.com/watch?v=JUk5j500U80', 'Username': u'Music &amp; Sport', 'Duration': u'6:06', 'Views': '501,797'}, {'Title ': u'$500 Selfie Drone! | DOPE or NOPE?', 'URL': u'https://www.youtube.com/watch?v=h87l1qiGFRU', 'Username': u'America&#39;s Got Talent', 'Duration': u'3:41', 'Views': '3,486,141'}, {'Title ': u'INCREDIBLE LUFTHANSA FIRST CLASS REVIEW featuring WESLEY SNIPES', 'URL': u'https://www.youtube.com/watch?v=oS169nq8Prw', 'Username': u'CalvinHarrisVEVO', 'Duration': u'3:43', 'Views': '9,464,010'}, {'Title ': u'GOOGLING MYSELF!! MY NET WORTH.', 'URL': u'https://www.youtube.com/watch?v=tgmlIh9njLk', 'Username': u'Anna Akana', 'Duration': u'0:47', 'Views': '885,791'}, {'Title ': u'Pok\\xe9mon by myself', 'URL': u'https://www.youtube.com/watch?v=OAsBNz9ejA8', 'Username': u'FutureVEVO', 'Duration': u'3:44', 'Views': '6,126,278'}]\n"
     ]
    }
   ],
   "source": [
    "prepared_data = []\n",
    "for i,j,z,x in zip(url_and_title,duration,username,final_views):\n",
    "    prepared_data.append({'Title ' :i.get(\"title\"),\"URL\" : \"https://www.youtube.com\"+i.get('href'),'Duration':j.text,\"Username\":z.text,\"Views\": x})\n",
    "print(prepared_data)"
   ]
  },
  {
   "cell_type": "markdown",
   "metadata": {},
   "source": [
    "Saving as JSON"
   ]
  },
  {
   "cell_type": "code",
   "execution_count": 6,
   "metadata": {
    "collapsed": true
   },
   "outputs": [],
   "source": [
    "import json\n",
    "\n",
    "with open('youtub_trending.json', 'w') as output:\n",
    "    json.dump(prepared_data, output, sort_keys = True, indent = 4)"
   ]
  },
  {
   "cell_type": "markdown",
   "metadata": {},
   "source": [
    "Saving as CSV"
   ]
  },
  {
   "cell_type": "code",
   "execution_count": 7,
   "metadata": {
    "collapsed": true
   },
   "outputs": [],
   "source": [
    "import unicodecsv as csv\n",
    "\n",
    "with open('youtub_trending.csv', 'w') as c:\n",
    "    for i in prepared_data:\n",
    "            writer = csv.writer(c)\n",
    "            for z, x in i.items():\n",
    "                writer.writerow([z, x])\n",
    "            writer.writerow([])"
   ]
  },
  {
   "cell_type": "markdown",
   "metadata": {},
   "source": []
  },
  {
   "cell_type": "markdown",
   "metadata": {},
   "source": [
    "2 Getting the data by using urllib2 and lxml and saving into a CSV and a JSON file"
   ]
  },
  {
   "cell_type": "code",
   "execution_count": 23,
   "metadata": {
    "collapsed": true
   },
   "outputs": [],
   "source": [
    "import urllib2\n",
    "from lxml import html\n",
    "import re"
   ]
  },
  {
   "cell_type": "code",
   "execution_count": 24,
   "metadata": {
    "collapsed": true
   },
   "outputs": [],
   "source": [
    "url = \"https://www.youtube.com/feed/trending\"\n",
    "response = urllib2.urlopen(url)\n",
    "page = response.read()\n",
    "tree = html.document_fromstring(page)"
   ]
  },
  {
   "cell_type": "code",
   "execution_count": 25,
   "metadata": {
    "collapsed": true
   },
   "outputs": [],
   "source": [
    "url_and_title= tree.cssselect('[class=\"yt-uix-tile-link yt-ui-ellipsis yt-ui-ellipsis-2 yt-uix-sessionlink      spf-link \"]')\n",
    "duration=tree.cssselect('[class=\"video-time\"]')\n",
    "username=tree.cssselect('[class=\"g-hovercard yt-uix-sessionlink       spf-link \"]')"
   ]
  },
  {
   "cell_type": "code",
   "execution_count": 26,
   "metadata": {
    "collapsed": false
   },
   "outputs": [],
   "source": [
    "views = tree.cssselect('[class=\"yt-lockup-meta-info\"] ' )\n",
    "y=[]\n",
    "for i in views:\n",
    "    y.append(i.text_content())\n",
    "v=str(y)\n",
    "final_views=re.findall('\\S([0-9]+\\S*)\\s+views',v)"
   ]
  },
  {
   "cell_type": "code",
   "execution_count": 27,
   "metadata": {
    "collapsed": false
   },
   "outputs": [
    {
     "name": "stdout",
     "output_type": "stream",
     "text": [
      "[{'URL': 'https://www.youtube.com/watch?v=2QKg5SZ_35I', 'Duration': '2:46', 'Username': 'Sony Pictures Entertainment', 'Views': '3,539,212', 'Title': 'JUMANJI: WELCOME TO THE JUNGLE - Official Trailer (HD)'}, {'URL': 'https://www.youtube.com/watch?v=kFQUlA-G0N4', 'Duration': '18:41', 'Username': 'CinemaSins', 'Views': '1,740,553', 'Title': 'Everything Wrong With Despicable Me 2 In 16 Minutes Or Less'}, {'URL': 'https://www.youtube.com/watch?v=1sYF1SXcWqQ', 'Duration': '1:57', 'Username': 'Marvel Entertainment', 'Views': '3,746,713', 'Title': \"Marvel's Inhumans - Official Trailer 1\"}, {'URL': 'https://www.youtube.com/watch?v=gvxNaSIB_WI', 'Duration': '2:18', 'Username': 'Netflix', 'Views': '1,206,196', 'Title': 'Death Note | Official Trailer [HD] | Netflix'}, {'URL': 'https://www.youtube.com/watch?v=GO9JMR2m8O0', 'Duration': '8:46', 'Username': 'Conagh Kathleen', 'Views': '60,790', 'Title': \"Trump Doesn't Seem to Know Anything About Health Care: A Closer Look\"}, {'URL': 'https://www.youtube.com/watch?v=7_YnYrLfjxA', 'Duration': '9:48', 'Username': 'Conagh Kathleen', 'Views': '718,571', 'Title': 'Breathe Official Trailer #1 (2017) Andrew Garfield, Claire Foy Biography Movie HD'}, {'URL': 'https://www.youtube.com/watch?v=k___aVjwEXs', 'Duration': '16:06', 'Username': 'Conagh Kathleen', 'Views': '110,974', 'Title': \"Will Ferrell & Amy Poehler Answer the Web's Most Searched Questions | WIRED\"}, {'URL': 'https://www.youtube.com/watch?v=QulEM-Azzug', 'Duration': '7:45', 'Username': 'Conagh Kathleen', 'Views': '5,357', 'Title': 'Seth Rogen and Dominic Cooper Suffer While Eating Spicy Wings | Hot Ones'}, {'URL': 'https://www.youtube.com/watch?v=HRS-aSgHdQc', 'Duration': '12:30', 'Username': 'Conagh Kathleen', 'Views': '7,283', 'Title': '2,000G AQUARIUM LEAKED!!!'}, {'URL': 'https://www.youtube.com/watch?v=py44k46RR_0', 'Duration': '11:23', 'Username': 'Conagh Kathleen', 'Views': '87,027', 'Title': 'Weather boi'}, {'URL': 'https://www.youtube.com/watch?v=l2G360HrSAs', 'Duration': '10:50', 'Username': 'Late Night with Seth Meyers', 'Views': '932,749', 'Title': u'Van Jones: Russia is \\xe2\\x80\\x9cNothing burger\\xe2\\x80\\x9d\\xe2\\x80\\x93 American Pravda: CNN Part 2'}, {'URL': 'https://www.youtube.com/watch?v=0EzEMsZFrXY', 'Duration': '2:52', 'Username': 'Zero Media', 'Views': '1,170,313', 'Title': \"Medicaid's Last Stand | June 28, 2017 Part 1 | Full Frontal on TBS\"}, {'URL': 'https://www.youtube.com/watch?v=fjQ0lpY1OgM', 'Duration': '6:05', 'Username': 'WIRED', 'Views': '760,004', 'Title': 'Bathroom Bullies - Cyanide & Happiness Shorts'}, {'URL': 'https://www.youtube.com/watch?v=qqflFMhkqHM', 'Duration': '13:28', 'Username': 'First We Feast', 'Views': '1,091,598', 'Title': 'The xx - I Dare You (Official Music Video)'}, {'URL': 'https://www.youtube.com/watch?v=6_35a7sn6ds', 'Duration': '8:25', 'Username': 'The king of DIY', 'Views': '288,805', 'Title': 'The Hamilton Mixtape: Immigrants (We Get The Job Done)'}, {'URL': 'https://www.youtube.com/watch?v=HyPAi2Y9-_w', 'Duration': '0:12', 'Username': 'Fireattack142', 'Views': '1,118,312', 'Title': 'Spider-man: Homecoming - Movie Review'}, {'URL': 'https://www.youtube.com/watch?v=R--Y1rWsov4', 'Duration': '3:55', 'Username': 'veritasvisuals', 'Views': '1,405,154', 'Title': 'Kristen Wiig Makes Up Fake Cocktail Recipes on the Spot'}, {'URL': 'https://www.youtube.com/watch?v=Fh2W3FpfoQ8', 'Duration': '5:56', 'Username': 'Full Frontal with Samantha Bee', 'Views': '424,796', 'Title': 'When Should Remakes Not Happen?'}, {'URL': 'https://www.youtube.com/watch?v=V7C318DGB38', 'Duration': '1:14', 'Username': 'ExplosmEntertainment', 'Views': '1,798,359', 'Title': 'The \"Mountain Or Valley?\" Illusion'}, {'URL': 'https://www.youtube.com/watch?v=k17NmE6LLG8', 'Duration': '6:54', 'Username': 'The xx', 'Views': '530,182', 'Title': 'GIANT SALAMANDER FOUND!'}, {'URL': 'https://www.youtube.com/watch?v=ulm7bcB2xvY', 'Duration': '6:08', 'Username': 'Hamilton: An American Musical', 'Views': '1,354,228', 'Title': 'Telling a Story from the Inside Out'}, {'URL': 'https://www.youtube.com/watch?v=C_voqSfIvGY', 'Duration': '5:46', 'Username': 'Jeremy Jahns', 'Views': '584,867', 'Title': 'HUSBAND DOES MY MAKE UP CHALLENGE (JERIKA EDITION)'}, {'URL': 'https://www.youtube.com/watch?v=uEa_PI7jyT4', 'Duration': '5:26', 'Username': 'The Tonight Show Starring Jimmy Fallon', 'Views': '445,821', 'Title': 'The Punjabi Wedding Breakdown (PART 2)'}, {'URL': 'https://www.youtube.com/watch?v=PrnIVVWtAag', 'Duration': '12:16', 'Username': 'Channel Awesome', 'Views': '454,935', 'Title': 'NRA Ad'}, {'URL': 'https://www.youtube.com/watch?v=AXCTMGYUg9A', 'Duration': '4:13', 'Username': 'minutephysics', 'Views': '543,113', 'Title': 'The Greatest Showman | Official Trailer | 20th Century FOX'}, {'URL': 'https://www.youtube.com/watch?v=DtYEKvNwYwI', 'Duration': '13:41', 'Username': 'Brave Wilderness', 'Views': '4,490,908', 'Title': 'Surfers Make an Infinity Wave Pool by Hand'}, {'URL': 'https://www.youtube.com/watch?v=uDQtTfAn5hk', 'Duration': '12:51', 'Username': 'Lessons from the Screenplay', 'Views': '120,101', 'Title': u'Simon Cowell Shows Amazing HEART Steps In To Save Dog Trainer | America\\xe2\\x80\\x99s Got Talent 2017'}, {'URL': 'https://www.youtube.com/watch?v=kwxJxdfpEYY', 'Duration': '9:03', 'Username': 'Team 10', 'Views': '1,986,471', 'Title': 'Exclusive: Lamar Odom Talks Sobriety & Kardashians'}, {'URL': 'https://www.youtube.com/watch?v=BLL8WNZ9b4o', 'Duration': '20:29', 'Username': 'JusReign', 'Views': '322,733', 'Title': 'Turn your car into a bed with the Carvet'}, {'URL': 'https://www.youtube.com/watch?v=s8SHFfqqjec', 'Duration': '1:05', 'Username': 'vgolfoz', 'Views': '81,237', 'Title': 'WHAT IF HARRY POTTER...'}, {'URL': 'https://www.youtube.com/watch?v=BptxiIJhGd4', 'Duration': '2:24', 'Username': '20th Century Fox', 'Views': '2,909,495', 'Title': 'My longest hello everybody ever'}, {'URL': 'https://www.youtube.com/watch?v=glaG64Ao7sM', 'Duration': '1:09', 'Username': 'INSIDER', 'Views': '172,147', 'Title': 'Kendrick Lamar - ELEMENT.'}, {'URL': 'https://www.youtube.com/watch?v=VwTZEWI3wvw', 'Duration': '4:54', 'Username': 'Talent Recap', 'Views': '3,872,054', 'Title': 'Adam Lambert - Two Fux [Lyric Video]'}, {'URL': 'https://www.youtube.com/watch?v=3Zmk3z1ZJzA', 'Duration': '16:18', 'Username': 'Wendy Williams', 'Views': '1,011,606', 'Title': 'POLAROID - Official Trailer'}, {'URL': 'https://www.youtube.com/watch?v=2STZ5D3yi74', 'Duration': '5:03', 'Username': 'colinfurze', 'Views': '847,674', 'Title': u'INGRID GOES WEST [Theatrical Trailer] \\xe2\\x80\\x93 In Theaters August 11th'}, {'URL': 'https://www.youtube.com/watch?v=Gz29vsIPbXI', 'Duration': '4:03', 'Username': 'Smosh', 'Views': '1,153,058', 'Title': 'We Tried Instagram Toilet Paper Lips (feat. Candace Lowry)'}, {'URL': 'https://www.youtube.com/watch?v=C0kMh8-4-Tg', 'Duration': '1:28', 'Username': 'Markiplier', 'Views': '2,220,020', 'Title': 'Ed Sheeran on Shortland Street'}, {'URL': 'https://www.youtube.com/watch?v=gHfvnZ6RX8I', 'Duration': '3:34', 'Username': 'KendrickLamarVEVO', 'Views': '8,505,545', 'Title': \"NEW GAME! Simon's Cat - Crunch Time\"}, {'URL': 'https://www.youtube.com/watch?v=m5s3AraKZ1E', 'Duration': '3:26', 'Username': 'Adam Lambert', 'Views': '35,709', 'Title': 'iPhone - 10 Years Later'}, {'URL': 'https://www.youtube.com/watch?v=kIv_ConaZ1c', 'Duration': '2:25', 'Username': 'The Weinstein Company', 'Views': '688,091', 'Title': u'My Little Pony: The Movie (2017) Official Trailer \\xe2\\x80\\x93 Emily Blunt, Sia, Zoe Saldana \\xe2\\x80\\x93 In Theaters 10/6'}, {'URL': 'https://www.youtube.com/watch?v=kM0z5bdlsbk', 'Duration': '2:22', 'Username': 'NEON', 'Views': '465,902', 'Title': \"DIY Flamin' Hot Doughnut Grilled Cheese, Corinne VS Cooking #20\"}, {'URL': 'https://www.youtube.com/watch?v=TYiK6a2wejw', 'Duration': '11:03', 'Username': 'Safiya Nygaard', 'Views': '1,199,355', 'Title': 'In-N-Out 4x4x4 CHALLENGE'}, {'URL': 'https://www.youtube.com/watch?v=w3xcybdis1k', 'Duration': '1:13', 'Username': 'South Pacific Pictures', 'Views': '44,578', 'Title': 'The Killers - The Man'}, {'URL': 'https://www.youtube.com/watch?v=huA5-ViXEoo', 'Duration': '0:46', 'Username': \"Simon's Cat\", 'Views': '138,936', 'Title': 'Toro y Moi - \"You and I\" (official music video)'}, {'URL': 'https://www.youtube.com/watch?v=BsueVGTwggc', 'Duration': '4:36', 'Username': 'Austin Evans', 'Views': '461,111', 'Title': u'Sausage & Broccoli Rabe Pasta Pie \\xf0\\x9f\\x8d\\x9d | Episode 1171'}, {'URL': 'https://www.youtube.com/watch?v=E7lfkYVjdNw', 'Duration': '2:24', 'Username': 'Lionsgate Movies', 'Views': '313,021', 'Title': \"No-Fry Fried Ice Cream - Gemma's Bigger Bolder Baking Ep 180\"}, {'URL': 'https://www.youtube.com/watch?v=fVExq6zHOXA', 'Duration': '7:28', 'Username': 'ThreadBanger', 'Views': '933,297', 'Title': 'Susanna Reid dies a little inside every time Piers Morgan opens his mouth...'}, {'URL': 'https://www.youtube.com/watch?v=yY4RREvyfkY', 'Duration': '5:10', 'Username': 'Matt Stonie', 'Views': '1,039,806', 'Title': 'How to Make Tiramisu Cupcakes'}, {'URL': 'https://www.youtube.com/watch?v=7VG_s2PCH_c', 'Duration': '4:27', 'Username': 'TheKillersVEVO', 'Views': '1,114,188', 'Title': 'Vaccines: Last Week Tonight with John Oliver (HBO)'}, {'URL': 'https://www.youtube.com/watch?v=Zz4FLjMEKf4', 'Duration': '3:42', 'Username': 'Carpark Records', 'Views': '67,185', 'Title': 'The Milk Man - Cyanide & Happiness Minis'}, {'URL': 'https://www.youtube.com/watch?v=Hihto8onbUU', 'Duration': '8:49', 'Username': 'Laura in the Kitchen', 'Views': '39,038', 'Title': 'Pitch Perfect 3 - Official Trailer [HD]'}, {'URL': 'https://www.youtube.com/watch?v=v5tJBLfeurU', 'Duration': '5:49', 'Username': 'Gemma Stafford', 'Views': '61,686', 'Title': 'Binging with Babish: Cocktail Special'}, {'URL': 'https://www.youtube.com/watch?v=qzlGB3eOjlU', 'Duration': '1:22', 'Username': 'JOE_co_uk', 'Views': '498,571', 'Title': 'Tattoo Artists Critique Rihanna, Justin Bieber, and More Celebrity Tattoos | GQ'}, {'URL': 'https://www.youtube.com/watch?v=1Mlhnt0jMlg', 'Duration': '5:17', 'Username': 'CupcakeJemma', 'Views': '56,359', 'Title': 'Game of Thrones Season 7: #WinterIsHere Trailer #2 (HBO)'}, {'URL': 'https://www.youtube.com/watch?v=Y8mLi-rRTh8', 'Duration': '27:15', 'Username': 'LastWeekTonight', 'Views': '4,967,182', 'Title': 'BulgariaSat-1 Launch Webcast'}, {'URL': 'https://www.youtube.com/watch?v=2kGEhX_s2_g', 'Duration': '1:12', 'Username': 'ExplosmEntertainment', 'Views': '2,806,980', 'Title': 'Toby Keith - Wacky Tobaccy'}, {'URL': 'https://www.youtube.com/watch?v=TgHtp16pXfg', 'Duration': '2:28', 'Username': 'Pitch Perfect', 'Views': '7,381,798', 'Title': 'Casually Explained: Finding The One'}, {'URL': 'https://www.youtube.com/watch?v=coJ3UwP0Ri0', 'Duration': '6:04', 'Username': 'Binging with Babish', 'Views': '761,606', 'Title': 'ADULTS REACT TO RICK AND MORTY'}, {'URL': 'https://www.youtube.com/watch?v=lQ0HaBWk9Lk', 'Duration': '5:47', 'Username': 'GQ', 'Views': '4,218,700', 'Title': 'The TRUTH about KIM KARDASHIAN CONTOUR + HIGHLIGHT KIT'}, {'URL': 'https://www.youtube.com/watch?v=67ts0xgn7Lw', 'Duration': '2:09', 'Username': 'HBO', 'Views': '18,707,398', 'Title': 'I CUT MY OWN HAIR! Carli Bybel'}, {'URL': 'https://www.youtube.com/watch?v=yq_h8Y6ecnQ', 'Duration': '53:24', 'Username': 'SpaceX', 'Views': '1,044,001', 'Title': u'LaVar Ball takes over \\xe2\\x80\\x9cMiz TV\\xe2\\x80\\x9d: Raw, June 26, 2017'}, {'URL': 'https://www.youtube.com/watch?v=1rcBq0cnwXI', 'Duration': '3:08', 'Username': 'TobyKeithVEVO', 'Views': '3,014,639', 'Title': 'Nicki Minaj Full Performance NBA Awards 2017'}, {'URL': 'https://www.youtube.com/watch?v=72WMprLONBQ', 'Duration': '4:05', 'Username': 'Casually Explained', 'Views': '1,547,433', 'Title': 'Johnny Manuel: Guy Covers Whitney Houston\\'s \"I Have Nothing\" - America\\'s Got Talent 2017'}, {'URL': 'https://www.youtube.com/watch?v=ozv4q2ov3Mk', 'Duration': '13:29', 'Username': 'FBE', 'Views': '2,360,260', 'Title': 'Calvin Harris - Feels (Official Video) ft. Pharrell Williams, Katy Perry, Big Sean'}, {'URL': 'https://www.youtube.com/watch?v=LgrEujPI4jk', 'Duration': '17:03', 'Username': 'Tati', 'Views': '1,365,988', 'Title': \"I'm going away for a bit\"}, {'URL': 'https://www.youtube.com/watch?v=obWywMv-N4k', 'Duration': '14:32', 'Username': 'Carli Bybel', 'Views': '860,135', 'Title': 'Future - PIE ft. Chris Brown'}, {'URL': 'https://www.youtube.com/watch?v=tBYGmHagPDE', 'Duration': '4:21', 'Username': 'WWE', 'Views': '1,418,915', 'Title': 'Epic Disney Villains Medley - Peter Hollens feat. Whitney Avalon'}, {'URL': 'https://www.youtube.com/watch?v=JUk5j500U80', 'Duration': '6:06', 'Username': 'Music & Sport', 'Views': '505,146', 'Title': u\"\\xf0\\x9f\\x94\\xa5 World's Most Dangerous Rope \\xf0\\x9f\\x92\\xa3\\xf0\\x9f\\x92\\xa5\"}, {'URL': 'https://www.youtube.com/watch?v=h87l1qiGFRU', 'Duration': '3:41', 'Username': \"America's Got Talent\", 'Views': '3,540,825', 'Title': '$500 Selfie Drone! | DOPE or NOPE?'}, {'URL': 'https://www.youtube.com/watch?v=oS169nq8Prw', 'Duration': '3:43', 'Username': 'CalvinHarrisVEVO', 'Views': '9,649,908', 'Title': 'INCREDIBLE LUFTHANSA FIRST CLASS REVIEW featuring WESLEY SNIPES'}, {'URL': 'https://www.youtube.com/watch?v=tgmlIh9njLk', 'Duration': '0:47', 'Username': 'Anna Akana', 'Views': '886,467', 'Title': 'GOOGLING MYSELF!! MY NET WORTH.'}, {'URL': 'https://www.youtube.com/watch?v=OAsBNz9ejA8', 'Duration': '3:44', 'Username': 'FutureVEVO', 'Views': '6,216,202', 'Title': u'Pok\\xc3\\xa9mon by myself'}]\n"
     ]
    }
   ],
   "source": [
    "prepared_data=[]\n",
    "for i,z,a,b in zip(url_and_title,duration,username,final_views):\n",
    "    prepared_data.append({'Title' :i.get(\"title\"),\"URL\" : \"https://www.youtube.com\"+str(i.get('href')),'Duration':z.text,\"Username\":a.text,\"Views\": b})\n",
    "print(prepared_data)"
   ]
  },
  {
   "cell_type": "code",
   "execution_count": 28,
   "metadata": {
    "collapsed": true
   },
   "outputs": [],
   "source": [
    "import json\n",
    "\n",
    "with open('youtube_trending_2.json', 'w') as output:\n",
    "    json.dump(prepared_data, output, sort_keys = True, indent = 4)"
   ]
  },
  {
   "cell_type": "code",
   "execution_count": 29,
   "metadata": {
    "collapsed": true
   },
   "outputs": [],
   "source": [
    "import unicodecsv as csv\n",
    "\n",
    "with open('youtube_trending_2.csv', 'w') as c:\n",
    "    for i in prepared_data:\n",
    "            writer = csv.writer(c)\n",
    "            for z, x in i.items():\n",
    "                writer.writerow([z, x])\n",
    "            writer.writerow([])"
   ]
  }
 ],
 "metadata": {
  "kernelspec": {
   "display_name": "Python 2",
   "language": "python",
   "name": "python2"
  },
  "language_info": {
   "codemirror_mode": {
    "name": "ipython",
    "version": 2
   },
   "file_extension": ".py",
   "mimetype": "text/x-python",
   "name": "python",
   "nbconvert_exporter": "python",
   "pygments_lexer": "ipython2",
   "version": "2.7.13"
  }
 },
 "nbformat": 4,
 "nbformat_minor": 2
}
